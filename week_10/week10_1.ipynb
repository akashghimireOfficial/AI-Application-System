{
 "cells": [
  {
   "cell_type": "markdown",
   "metadata": {},
   "source": [
    "In this turtorial we will use pretrained Resnet50 model to predict the image of dog. For this turtorial we will be using pytorch."
   ]
  },
  {
   "cell_type": "code",
   "execution_count": 1,
   "metadata": {},
   "outputs": [],
   "source": [
    "import torch\n",
    "import torchvision\n",
    "from torchvision import transforms\n",
    "from PIL import Image\n",
    "device = torch.device(\"cuda:0\" if torch.cuda.is_available() else \"cpu\")"
   ]
  },
  {
   "cell_type": "code",
   "execution_count": 2,
   "metadata": {},
   "outputs": [],
   "source": [
    "# Load and preprocess image\n",
    "image = Image.open('dog.jpeg') ## image of dog was downloaded from iclass\n",
    "preprocess = transforms.Compose([\n",
    "    transforms.Resize((224,224)),\n",
    "    transforms.ToTensor(),\n",
    "    transforms.Normalize(mean=[0.485, 0.456, 0.406], std=[0.229, 0.224, 0.225])])\n",
    "# parameteres are documents at pytorcg.org\n",
    "input_tensor = preprocess(image)\n",
    "\n",
    "# Convert to 4-dimensional tensor\n",
    "inp = input_tensor.unsqueeze(0)"
   ]
  },
  {
   "cell_type": "code",
   "execution_count": 3,
   "metadata": {},
   "outputs": [
    {
     "name": "stdout",
     "output_type": "stream",
     "text": [
      "ImageNet class: 207 , probability = 0.983\n",
      "ImageNet class: 852 , probability = 0.004\n",
      "ImageNet class: 215 , probability = 0.003\n",
      "ImageNet class: 208 , probability = 0.002\n",
      "ImageNet class: 168 , probability = 0.002\n"
     ]
    }
   ],
   "source": [
    "# Load the pre trained model\n",
    "model=torchvision.models.resnet50(weights=torchvision.models.ResNet50_Weights.IMAGENET1K_V1)\n",
    "model.eval()\n",
    "\n",
    "# Transfer model to GPU.\n",
    "model.to(device)\n",
    "\n",
    "# Do prediction.\n",
    "inp = inp.to(device)\n",
    "with torch.no_grad():\n",
    "  outputs = model (inp)\n",
    "\n",
    "# Convert to probabilities, since final SoftMax activation is not in pretrained model.\n",
    "probabilities = torch.nn. functional.softmax(outputs[0], dim=0)\n",
    "\n",
    "# Print class ID for top 5 predictions.\n",
    "_, indices = torch.sort (probabilities, descending=True)\n",
    "# for i in range(0, 5):\n",
    "#   print(\"ImageNet class:\", indices[i].item(), ', probability = %4.3f' %probabilities[indices[i]].item())\n",
    "\n",
    "for i in range(0,5):\n",
    "  print('ImageNet class:', indices[i].item(), ', probability = %4.3f' % probabilities[indices[i]].item())\n",
    "# Show image\n",
    "image.show()"
   ]
  },
  {
   "cell_type": "code",
   "execution_count": null,
   "metadata": {},
   "outputs": [],
   "source": []
  }
 ],
 "metadata": {
  "kernelspec": {
   "display_name": "Python 3.10.5 ('vision')",
   "language": "python",
   "name": "python3"
  },
  "language_info": {
   "codemirror_mode": {
    "name": "ipython",
    "version": 3
   },
   "file_extension": ".py",
   "mimetype": "text/x-python",
   "name": "python",
   "nbconvert_exporter": "python",
   "pygments_lexer": "ipython3",
   "version": "3.10.5"
  },
  "orig_nbformat": 4,
  "vscode": {
   "interpreter": {
    "hash": "c93af7433719cf61beb232a937287b5f6ac44c5a03632b389ba7312dbdbeed85"
   }
  }
 },
 "nbformat": 4,
 "nbformat_minor": 2
}
